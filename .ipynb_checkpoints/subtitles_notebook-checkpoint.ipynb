{
 "cells": [
  {
   "cell_type": "code",
   "execution_count": 1,
   "id": "cf782c5c",
   "metadata": {},
   "outputs": [
    {
     "name": "stderr",
     "output_type": "stream",
     "text": [
      "2022-06-11 15:36:44.495746: I tensorflow/stream_executor/platform/default/dso_loader.cc:53] Successfully opened dynamic library libcudart.so.11.0\n"
     ]
    }
   ],
   "source": [
    "import numpy as np\n",
    "import pandas as pd\n",
    "import os\n",
    "from gensim.parsing.preprocessing import remove_stopwords\n",
    "from gensim import models\n",
    "from pathlib import Path\n",
    "from transformers import GPT2LMHeadModel, GPT2Tokenizer\n",
    "import matplotlib.pyplot as plt\n",
    "from sklearn.decomposition import PCA"
   ]
  },
  {
   "cell_type": "code",
   "execution_count": 2,
   "id": "d725b863",
   "metadata": {},
   "outputs": [
    {
     "name": "stdout",
     "output_type": "stream",
     "text": [
      "5589021\n",
      "4690\n",
      "4690\n",
      "tt0114709\n",
      "5589021\n"
     ]
    }
   ],
   "source": [
    "# loading datasets and preliminary cleaning\n",
    "\n",
    "subtitles=pd.read_csv('../data/movies_subtitles.csv')\n",
    "metas=pd.read_csv('../data/movies_meta.csv')\n",
    "\n",
    "\n",
    "print(len(subtitles))\n",
    "print(len(metas))\n",
    "indexes=list(metas['imdb_id'])\n",
    "print(len(indexes))\n",
    "print(indexes[0])\n",
    "\n",
    "\n",
    "subtitles2=subtitles.loc[subtitles['imdb_id'].isin(indexes)]\n",
    "print(len(subtitles2))\n",
    "\n"
   ]
  },
  {
   "cell_type": "code",
   "execution_count": 3,
   "id": "43bf5e91",
   "metadata": {},
   "outputs": [],
   "source": [
    "# load NLU model\n",
    "\n",
    "model = GPT2LMHeadModel.from_pretrained('gpt2')  # or any other checkpoint\n",
    "word_embeddings = model.transformer.wte.weight  # Word Token Embeddings \n",
    "position_embeddings = model.transformer.wpe.weight \n",
    "tokenizer = GPT2Tokenizer.from_pretrained('gpt2')\n"
   ]
  },
  {
   "cell_type": "code",
   "execution_count": 4,
   "id": "ad93b931",
   "metadata": {},
   "outputs": [
    {
     "name": "stdout",
     "output_type": "stream",
     "text": [
      "tt0114709\n",
      "tt0113497\n",
      "tt0113189\n",
      "tt0113627\n",
      "tt0112637\n",
      "tt0112818\n",
      "tt0113442\n",
      "tt0112697\n",
      "tt0113855\n",
      "tt0114148\n",
      "        Unnamed: 0  start_time  end_time                                 text  \\\n",
      "0                0      58.559    61.602                    boy right stickup   \n",
      "1                1      61.687    63.354                           donanybody   \n",
      "2                2      64.398    66.482                                 safe   \n",
      "3                3      68.318    71.612  oohhoohoo money money money kissing   \n",
      "4                4      71.697    74.031            stop stop mean old potato   \n",
      "...            ...         ...       ...                                  ...   \n",
      "540642      680741    4722.509  4725.595                       friendship die   \n",
      "540643      680742    4727.139  4731.935                  gonna itour destiny   \n",
      "540644      680743    4732.019  4735.980                        yougot friend   \n",
      "540645      680744    4736.065  4738.650                        yougot friend   \n",
      "540646      680745    4740.319  4840.877                        yougot friend   \n",
      "\n",
      "          imdb_id  \n",
      "0       tt0114709  \n",
      "1       tt0114709  \n",
      "2       tt0114709  \n",
      "3       tt0114709  \n",
      "4       tt0114709  \n",
      "...           ...  \n",
      "540642  tt0114709  \n",
      "540643  tt0114709  \n",
      "540644  tt0114709  \n",
      "540645  tt0114709  \n",
      "540646  tt0114709  \n",
      "\n",
      "[4158 rows x 5 columns]\n"
     ]
    }
   ],
   "source": [
    "# clean subtitle's text\n",
    "\n",
    "def clean_text(x):\n",
    "    '''\n",
    "    method to normalize the movie titles\n",
    "    '''\n",
    "    x=x.lower()  \n",
    "    for char in [\"\\n\", \"'\"]:\n",
    "        x=x.replace(char, \" \")  \n",
    "    for char in [\"-\", \",\", \".\", \":\", \";\", \"(\", \")\", \"/\", \"!\", \"?\", \"%\", \"<i>\", \"<u>\", \"<b>\", \"♪\", \" s \", \" m \", \" t \", \" ve \", \"#\"]:\n",
    "        x=x.replace(char, \"\") \n",
    "\n",
    "    x=remove_stopwords(x)\n",
    "    return x\n",
    " \n",
    "subtitles=subtitles.dropna()\n",
    "subtitles['text']=subtitles['text'].apply(clean_text)\n",
    "\n",
    "movies_list=[]\n",
    "\n",
    "for index in subtitles['imdb_id'].unique()[:10]:\n",
    "    globals()['%s' % index]= subtitles.loc[subtitles['imdb_id']==index]\n",
    "    movies_list.append(globals()['%s' % index])\n",
    "  \n",
    "    \n",
    "print(tt0114709)"
   ]
  },
  {
   "cell_type": "code",
   "execution_count": null,
   "id": "a370c314",
   "metadata": {},
   "outputs": [
    {
     "name": "stdout",
     "output_type": "stream",
     "text": [
      "tt0114709\n"
     ]
    }
   ],
   "source": [
    "\n",
    "\n",
    "for movie in movies_list:\n",
    "        \n",
    "    dimension=int(len(movie)/768)\n",
    "    low_bound=0\n",
    "    high_bound=dimension   \n",
    "    \n",
    "    movie_words=[]\n",
    "    for i in range(768):\n",
    "        text=[]\n",
    "        subset=movie.iloc[low_bound:high_bound]\n",
    "       \n",
    "        text+=subset['text'].to_string().split()\n",
    "      \n",
    "        globals()['sentences_%s' % i]=text\n",
    "        low_bound+=dimension\n",
    "        high_bound+=dimension\n",
    "        movie_words.append(globals()['sentences_%s' % i])\n",
    "        \n",
    "    #print(len(movie_words))\n",
    "   # print(movie_words[:5])\n",
    "        \n",
    "    matrix=[]\n",
    "    \n",
    "    for sentence in movie_words:\n",
    "        sent_vect=[]\n",
    "        for word in sentence:\n",
    "            text_index = tokenizer.encode(word,add_prefix_space=True)\n",
    "            vector = model.transformer.wte.weight[text_index,:]\n",
    "            vector=vector.detach().numpy()         \n",
    "            sent_vect.append(vector[0])\n",
    "        matrix.append(np.sum(sent_vect, axis=0) / len(sent_vect))  \n",
    "        \n",
    "    name=list(movie['imdb_id'])[0]\n",
    "    print(name)\n",
    "    globals()['matrix_%s' % name]= matrix\n",
    "\n",
    "    \n",
    "print(len(matrix_tt0113189))\n",
    "print(len(matrix_tt0113189[0]))\n"
   ]
  },
  {
   "cell_type": "code",
   "execution_count": null,
   "id": "9a255f21",
   "metadata": {},
   "outputs": [],
   "source": [
    "plt.figure(figsize=(10, 10))\n",
    "plt.imshow(matrix_tt0113189, cmap='hot', interpolation='nearest')\n",
    "plt.show()"
   ]
  },
  {
   "cell_type": "code",
   "execution_count": null,
   "id": "95c00f72",
   "metadata": {},
   "outputs": [],
   "source": []
  }
 ],
 "metadata": {
  "kernelspec": {
   "display_name": "Python 3 (ipykernel)",
   "language": "python",
   "name": "python3"
  },
  "language_info": {
   "codemirror_mode": {
    "name": "ipython",
    "version": 3
   },
   "file_extension": ".py",
   "mimetype": "text/x-python",
   "name": "python",
   "nbconvert_exporter": "python",
   "pygments_lexer": "ipython3",
   "version": "3.9.0"
  }
 },
 "nbformat": 4,
 "nbformat_minor": 5
}
