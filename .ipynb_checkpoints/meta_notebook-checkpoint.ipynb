{
 "cells": [
  {
   "cell_type": "code",
   "execution_count": 6,
   "id": "400b15f3",
   "metadata": {},
   "outputs": [],
   "source": [
    "import numpy as np\n",
    "import pandas as pd\n",
    "from gensim.parsing.preprocessing import remove_stopwords"
   ]
  },
  {
   "cell_type": "code",
   "execution_count": 7,
   "id": "9e38cb62",
   "metadata": {},
   "outputs": [],
   "source": [
    "# loading datasets and preliminary cleaning\n",
    "rotten=pd.read_csv('../data/rotten_tomatoes_movies.csv')\n",
    "rotten=rotten.drop(['rotten_tomatoes_link', 'content_rating', 'actors', 'streaming_release_date', \n",
    "                    'movie_info', 'critics_consensus', 'genres', 'directors', 'authors', 'original_release_date',  \n",
    "                    'production_company', 'tomatometer_fresh_critics_count', 'tomatometer_rotten_critics_count'], axis=1)\n",
    "\n",
    "\n",
    "meta=pd.read_csv('../data/movies_meta.csv')\n",
    "meta=meta.loc[meta['original_language']=='en']  # only english movies\n",
    "meta=meta.drop(['production_countries', 'overview', 'tagline', 'belongs_to_collection', 'homepage', 'revenue', 'spoken_languages', 'video', 'homepage', \"poster_path\", 'production_companies'], axis=1)\n",
    "meta['release_date']=pd.to_datetime(meta['release_date'])\n"
   ]
  },
  {
   "cell_type": "code",
   "execution_count": 8,
   "id": "3c35c9d5",
   "metadata": {},
   "outputs": [
    {
     "name": "stdout",
     "output_type": "stream",
     "text": [
      "3608\n",
      "      index  adult    budget  \\\n",
      "3         3  False   3600000   \n",
      "5         5  False         0   \n",
      "6         6  False  11000000   \n",
      "8         8  False  12000000   \n",
      "11       11  False  55000000   \n",
      "...     ...    ...       ...   \n",
      "3591   4660  False         0   \n",
      "3599   4677  False         0   \n",
      "3600   4678  False         0   \n",
      "3603   4684  False         0   \n",
      "3606   4688  False         0   \n",
      "\n",
      "                                                 genres      id    imdb_id  \\\n",
      "3     [{'id': 18, 'name': 'Drama'}, {'id': 10749, 'n...     451  tt0113627   \n",
      "5     [{'id': 36, 'name': 'History'}, {'id': 18, 'na...   47018  tt0112637   \n",
      "6                         [{'id': 18, 'name': 'Drama'}]     687  tt0112818   \n",
      "8     [{'id': 35, 'name': 'Comedy'}, {'id': 18, 'nam...    9603  tt0112697   \n",
      "11    [{'id': 12, 'name': 'Adventure'}, {'id': 16, '...   10530  tt0114148   \n",
      "...                                                 ...     ...        ...   \n",
      "3591  [{'id': 18, 'name': 'Drama'}, {'id': 36, 'name...   26792  tt0902981   \n",
      "3599  [{'id': 18, 'name': 'Drama'}, {'id': 35, 'name...  379959  tt5116560   \n",
      "3600  [{'id': 35, 'name': 'Comedy'}, {'id': 14, 'nam...   42384  tt1433775   \n",
      "3603                      [{'id': 18, 'name': 'Drama'}]   50662  tt0478273   \n",
      "3606  [{'id': 53, 'name': 'Thriller'}, {'id': 18, 'n...  105980  tt0129023   \n",
      "\n",
      "     original_language     original_title  popularity release_date  runtime  \\\n",
      "3                   en  Leaving Las Vegas   10.332025   1995-10-27    112.0   \n",
      "5                   en         Carrington    1.493361   1995-11-08    121.0   \n",
      "6                   en   Dead Man Walking    6.891317   1995-12-29    122.0   \n",
      "8                   en           Clueless    9.882383   1995-07-19     97.0   \n",
      "11                  en         Pocahontas   13.280069   1995-06-14     81.0   \n",
      "...                ...                ...         ...          ...      ...   \n",
      "3591                en    Грозовые ворота    2.491206   2006-02-12    208.0   \n",
      "3599                en       Thunder Road    0.102319   2016-01-23     13.0   \n",
      "3600                en          Garoojigi    1.199077   2008-04-30    120.0   \n",
      "3603                en      South Of Pico    0.014623   2007-10-25     84.0   \n",
      "3606                en        Dark Harbor    0.694388   1999-12-31     84.0   \n",
      "\n",
      "        status                       title  vote_average  vote_count  drama  \n",
      "3     Released           Leaving Las Vegas           7.1       365.0   True  \n",
      "5     Released                  Carrington           6.4        16.0   True  \n",
      "6     Released            Dead Man Walking           7.3       350.0   True  \n",
      "8     Released                    Clueless           6.9       828.0   True  \n",
      "11    Released                  Pocahontas           6.7      1509.0   True  \n",
      "...        ...                         ...           ...         ...    ...  \n",
      "3591  Released              The Storm Gate           6.8         9.0   True  \n",
      "3599  Released                Thunder Road           8.0         2.0   True  \n",
      "3600  Released  A Tale of Legendary Libido           6.2        13.0   True  \n",
      "3603  Released               South Of Pico           0.0         0.0   True  \n",
      "3606  Released                 Dark Harbor           4.6         9.0   True  \n",
      "\n",
      "[1746 rows x 16 columns]\n"
     ]
    }
   ],
   "source": [
    "# column for drama (true or false)\n",
    "\n",
    "def drama(df):\n",
    "    drama=[]\n",
    "    df=df.reset_index()\n",
    "    for row in df['genres']:\n",
    "        if \"Drama\" in row:\n",
    "            drama.append(True)\n",
    "        else:\n",
    "            drama.append(False)\n",
    "            \n",
    "    print(len(drama))\n",
    "    df['drama']=pd.Series(drama)\n",
    "    return df\n",
    "\n",
    "meta_drama=drama(meta)\n",
    "meta_drama=meta_drama.loc[meta_drama['drama']==True]\n",
    "print(meta_drama)"
   ]
  },
  {
   "cell_type": "code",
   "execution_count": 9,
   "id": "2ec04d8c",
   "metadata": {},
   "outputs": [],
   "source": [
    "#clean titles\n",
    "\n",
    "def clean_title(x):\n",
    "    '''\n",
    "    method to normalize the movie titles\n",
    "    '''\n",
    "    for char in [\",\", \"'\", \".\", \":\", \";\", \"(\", \")\", \"/\", \"!\", \"?\", \"%\", \"-\", \"_\", \"=\"]:\n",
    "        x=x.replace(char, \"\")        \n",
    "    return x.lower()\n",
    " \n",
    "rotten['movie_title']=rotten['movie_title'].apply(clean_title)\n",
    "meta_drama['title']=meta_drama['title'].apply(clean_title)\n",
    "\n",
    "\n",
    "# clean genres\n",
    "\n",
    "def clean_genres(x):\n",
    "    '''\n",
    "    Method to clean the genres variable in meta dataset\n",
    "    '''\n",
    "    for char in [\"}\", \"'\", \",\", ']']:\n",
    "        x=x.replace(char, \"\")     \n",
    "    x=list(x.split())\n",
    "    genres=[]\n",
    "    for i, word in enumerate(x):\n",
    "\n",
    "        if (i+1)%4==0:\n",
    "            genres.append(word)\n",
    "    return (genres)\n",
    "   \n",
    "        \n",
    "meta_drama['genres']=meta_drama['genres'].apply(clean_genres)"
   ]
  },
  {
   "cell_type": "code",
   "execution_count": 10,
   "id": "b3972dde",
   "metadata": {},
   "outputs": [
    {
     "name": "stdout",
     "output_type": "stream",
     "text": [
      "Index(['runtime_x', 'tomatometer_status', 'tomatometer_rating',\n",
      "       'tomatometer_count', 'audience_status', 'audience_rating',\n",
      "       'audience_count', 'tomatometer_top_critics_count', 'adult', 'budget',\n",
      "       'genres', 'id', 'imdb_id', 'original_language', 'original_title',\n",
      "       'popularity', 'release_date', 'runtime_y', 'status', 'title',\n",
      "       'vote_average', 'vote_count'],\n",
      "      dtype='object')\n"
     ]
    }
   ],
   "source": [
    "def combine(df1, df2):\n",
    "    result = pd.merge(df1, df2, how=\"inner\", left_on='movie_title', right_on='title')\n",
    "    result = result.drop(['movie_title'], axis=1)\n",
    "    return result\n",
    "\n",
    "combined=combine(rotten, meta)\n",
    "print(combined.columns)"
   ]
  },
  {
   "cell_type": "code",
   "execution_count": 11,
   "id": "4d93a43e",
   "metadata": {},
   "outputs": [
    {
     "name": "stdout",
     "output_type": "stream",
     "text": [
      "   runtime_x tomatometer_status  tomatometer_rating  tomatometer_count  \\\n",
      "0       79.0             Rotten                57.0              184.0   \n",
      "1      114.0              Fresh                66.0               35.0   \n",
      "2      117.0              Fresh                61.0              235.0   \n",
      "3      128.0    Certified-Fresh                80.0              194.0   \n",
      "4      128.0              Fresh                85.0               27.0   \n",
      "\n",
      "  audience_status  audience_rating  audience_count  \\\n",
      "0         Spilled             56.0        282166.0   \n",
      "1         Upright             61.0         25579.0   \n",
      "2         Upright             89.0       1434961.0   \n",
      "3         Upright             85.0        119734.0   \n",
      "4         Upright             90.0         15779.0   \n",
      "\n",
      "   tomatometer_top_critics_count  adult    budget  ...    imdb_id  \\\n",
      "0                             44  False         0  ...  tt0443424   \n",
      "1                              7  False  28000000  ...  tt0086837   \n",
      "2                             50  False  65000000  ...  tt0416449   \n",
      "3                             51  False  40000000  ...  tt0453562   \n",
      "4                             11  False         0  ...  tt0250934   \n",
      "\n",
      "   original_language original_title popularity release_date  runtime_y  \\\n",
      "0                 en              9   3.122855   2005-04-21       11.0   \n",
      "1                 en           2010   7.482865   1984-12-06      116.0   \n",
      "2                 en            300  18.108408   2006-12-09      117.0   \n",
      "3                 en             42  11.637224   2013-04-12      128.0   \n",
      "4                 en            61*   2.077090   2001-04-28      129.0   \n",
      "\n",
      "     status  title vote_average vote_count  \n",
      "0  Released      9          7.4       74.0  \n",
      "1  Released   2010          6.6      290.0  \n",
      "2  Released    300          7.0     5092.0  \n",
      "3  Released     42          6.8      795.0  \n",
      "4  Released    61*          6.3       34.0  \n",
      "\n",
      "[5 rows x 22 columns]\n"
     ]
    }
   ],
   "source": [
    "print(combined)"
   ]
  },
  {
   "cell_type": "code",
   "execution_count": null,
   "id": "5478d596",
   "metadata": {},
   "outputs": [],
   "source": []
  }
 ],
 "metadata": {
  "kernelspec": {
   "display_name": "Python 3 (ipykernel)",
   "language": "python",
   "name": "python3"
  },
  "language_info": {
   "codemirror_mode": {
    "name": "ipython",
    "version": 3
   },
   "file_extension": ".py",
   "mimetype": "text/x-python",
   "name": "python",
   "nbconvert_exporter": "python",
   "pygments_lexer": "ipython3",
   "version": "3.9.0"
  }
 },
 "nbformat": 4,
 "nbformat_minor": 5
}
