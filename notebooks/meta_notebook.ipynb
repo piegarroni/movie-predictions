{
 "cells": [
  {
   "cell_type": "code",
   "execution_count": 5,
   "id": "400b15f3",
   "metadata": {},
   "outputs": [],
   "source": [
    "import numpy as np\n",
    "import pandas as pd\n",
    "import matplotlib.pyplot as plt\n",
    "from gensim.parsing.preprocessing import remove_stopwords\n",
    "from sklearn.ensemble import RandomForestClassifier, RandomForestRegressor\n",
    "from sklearn.metrics import accuracy_score, classification_report,explained_variance_score, mean_squared_error\n",
    "from sklearn.model_selection import train_test_split\n",
    "from sklearn.preprocessing import LabelEncoder"
   ]
  },
  {
   "cell_type": "code",
   "execution_count": 10,
   "id": "9e38cb62",
   "metadata": {},
   "outputs": [
    {
     "name": "stdout",
     "output_type": "stream",
     "text": [
      "3608\n"
     ]
    }
   ],
   "source": [
    "# loading datasets and preliminary cleaning\n",
    "rotten=pd.read_csv('../../data/rotten_tomatoes_movies.csv')\n",
    "rotten=rotten.drop(['rotten_tomatoes_link', 'content_rating', 'actors', 'streaming_release_date', \n",
    "                    'movie_info', 'critics_consensus', 'genres', 'directors', 'authors',# 'original_release_date',  \n",
    "                    'production_company', 'tomatometer_fresh_critics_count', 'tomatometer_rotten_critics_count'], axis=1)\n",
    "\n",
    "\n",
    "imdb=pd.read_csv('../../data/movies_meta.csv')\n",
    "imdb=imdb.loc[imdb['original_language']=='en']  # only english movies\n",
    "imdb=imdb.drop(['production_countries', 'overview', 'tagline', 'belongs_to_collection', 'homepage', 'revenue', 'spoken_languages', 'video', 'homepage', \"poster_path\", 'production_companies'], axis=1)\n",
    "print(len(imdb))"
   ]
  },
  {
   "cell_type": "code",
   "execution_count": 11,
   "id": "316dc8e6",
   "metadata": {},
   "outputs": [
    {
     "name": "stdout",
     "output_type": "stream",
     "text": [
      "                                             movie_title  \\\n",
      "0      Percy Jackson & the Olympians: The Lightning T...   \n",
      "1                                            Please Give   \n",
      "2                                                     10   \n",
      "3                        12 Angry Men (Twelve Angry Men)   \n",
      "4                           20,000 Leagues Under The Sea   \n",
      "...                                                  ...   \n",
      "17707                                          Zoot Suit   \n",
      "17708                                           Zootopia   \n",
      "17709                                    Zorba the Greek   \n",
      "17710                                               Zulu   \n",
      "17711                                          Zulu Dawn   \n",
      "\n",
      "      original_release_date  runtime tomatometer_status  tomatometer_rating  \\\n",
      "0                2010-02-12    119.0             Rotten                49.0   \n",
      "1                2010-04-30     90.0    Certified-Fresh                87.0   \n",
      "2                1979-10-05    122.0              Fresh                67.0   \n",
      "3                1957-04-13     95.0    Certified-Fresh               100.0   \n",
      "4                1954-01-01    127.0              Fresh                89.0   \n",
      "...                     ...      ...                ...                 ...   \n",
      "17707            1981-10-02    104.0             Rotten                56.0   \n",
      "17708            2016-03-04    108.0    Certified-Fresh                98.0   \n",
      "17709            1964-12-17    142.0              Fresh                80.0   \n",
      "17710            1964-06-17    135.0              Fresh                96.0   \n",
      "17711            1979-12-14    121.0             Rotten                50.0   \n",
      "\n",
      "       tomatometer_count audience_status  audience_rating  audience_count  \\\n",
      "0                  149.0         Spilled             53.0        254421.0   \n",
      "1                  142.0         Upright             64.0         11574.0   \n",
      "2                   24.0         Spilled             53.0         14684.0   \n",
      "3                   54.0         Upright             97.0        105386.0   \n",
      "4                   27.0         Upright             74.0         68918.0   \n",
      "...                  ...             ...              ...             ...   \n",
      "17707                9.0         Upright             74.0          1195.0   \n",
      "17708              291.0         Upright             92.0        101511.0   \n",
      "17709               10.0         Upright             86.0          7146.0   \n",
      "17710               23.0         Upright             91.0         30193.0   \n",
      "17711                8.0         Upright             62.0          4469.0   \n",
      "\n",
      "       tomatometer_top_critics_count  \n",
      "0                                 43  \n",
      "1                                 44  \n",
      "2                                  2  \n",
      "3                                  6  \n",
      "4                                  5  \n",
      "...                              ...  \n",
      "17707                              2  \n",
      "17708                             50  \n",
      "17709                              0  \n",
      "17710                              6  \n",
      "17711                              0  \n",
      "\n",
      "[17712 rows x 10 columns]\n"
     ]
    }
   ],
   "source": [
    "print(rotten)"
   ]
  },
  {
   "cell_type": "markdown",
   "id": "91ae05b8",
   "metadata": {},
   "source": [
    "### Preprocessing the datasets"
   ]
  },
  {
   "cell_type": "code",
   "execution_count": 12,
   "id": "7f539a13",
   "metadata": {},
   "outputs": [
    {
     "name": "stderr",
     "output_type": "stream",
     "text": [
      "/tmp/ipykernel_146/2593257763.py:10: SettingWithCopyWarning: \n",
      "A value is trying to be set on a copy of a slice from a DataFrame\n",
      "\n",
      "See the caveats in the documentation: https://pandas.pydata.org/pandas-docs/stable/user_guide/indexing.html#returning-a-view-versus-a-copy\n",
      "  imdb[row.split(\"'\")[5]][idx]=1\n",
      "/tmp/ipykernel_146/2593257763.py:12: SettingWithCopyWarning: \n",
      "A value is trying to be set on a copy of a slice from a DataFrame\n",
      "\n",
      "See the caveats in the documentation: https://pandas.pydata.org/pandas-docs/stable/user_guide/indexing.html#returning-a-view-versus-a-copy\n",
      "  imdb[row.split(\"'\")[11]][idx]=1\n",
      "/tmp/ipykernel_146/2593257763.py:16: SettingWithCopyWarning: \n",
      "A value is trying to be set on a copy of a slice from a DataFrame\n",
      "\n",
      "See the caveats in the documentation: https://pandas.pydata.org/pandas-docs/stable/user_guide/indexing.html#returning-a-view-versus-a-copy\n",
      "  imdb[row.split(\"'\")[17]][idx]=1\n"
     ]
    },
    {
     "name": "stdout",
     "output_type": "stream",
     "text": [
      "      adult    budget                                             genres  \\\n",
      "0     False  30000000  [{'id': 16, 'name': 'Animation'}, {'id': 35, '...   \n",
      "1     False  65000000  [{'id': 12, 'name': 'Adventure'}, {'id': 14, '...   \n",
      "2     False  58000000  [{'id': 12, 'name': 'Adventure'}, {'id': 28, '...   \n",
      "3     False   3600000  [{'id': 18, 'name': 'Drama'}, {'id': 10749, 'n...   \n",
      "4     False  29500000  [{'id': 878, 'name': 'Science Fiction'}, {'id'...   \n",
      "...     ...       ...                                                ...   \n",
      "4684  False         0                      [{'id': 18, 'name': 'Drama'}]   \n",
      "4685  False         0  [{'id': 878, 'name': 'Science Fiction'}, {'id'...   \n",
      "4687  False  30000000  [{'id': 28, 'name': 'Action'}, {'id': 53, 'nam...   \n",
      "4688  False         0  [{'id': 53, 'name': 'Thriller'}, {'id': 18, 'n...   \n",
      "4689  False         0                                                 []   \n",
      "\n",
      "          id    imdb_id original_language                  original_title  \\\n",
      "0        862  tt0114709                en                       Toy Story   \n",
      "1       8844  tt0113497                en                         Jumanji   \n",
      "2        710  tt0113189                en                       GoldenEye   \n",
      "3        451  tt0113627                en               Leaving Las Vegas   \n",
      "4         63  tt0114746                en                  Twelve Monkeys   \n",
      "...      ...        ...               ...                             ...   \n",
      "4684   50662  tt0478273                en                   South Of Pico   \n",
      "4685  406990  tt1536537                en         What Happened to Monday   \n",
      "4687  341013  tt2406566                en                   Atomic Blonde   \n",
      "4688  105980  tt0129023                en                     Dark Harbor   \n",
      "4689  439314        NaN                en  The Garden of Afflictions 2017   \n",
      "\n",
      "      popularity release_date  runtime  ... Short Drama  Sport  Family  \\\n",
      "0      21.946943   1995-10-30     81.0  ...     0     0      0       1   \n",
      "1      17.015539   1995-12-15    104.0  ...     0     0      0       1   \n",
      "2      14.686036   1995-11-16    130.0  ...     0     0      0       0   \n",
      "3      10.332025   1995-10-27    112.0  ...     0     1      0       0   \n",
      "4      12.297305   1995-12-29    129.0  ...     0     0      0       0   \n",
      "...          ...          ...      ...  ...   ...   ...    ...     ...   \n",
      "4684    0.014623   2007-10-25     84.0  ...     0     0      0       0   \n",
      "4685   60.581223   2017-08-18    123.0  ...     0     0      0       0   \n",
      "4687   14.455104   2017-07-26    115.0  ...     0     0      0       0   \n",
      "4688    0.694388   1999-12-31     84.0  ...     0     0      0       0   \n",
      "4689    0.000000          NaN      0.0  ...     0     0      0       0   \n",
      "\n",
      "      Thriller  Fantasy  Film-noir  War  Western  Science Fiction  \n",
      "0            0        0          0    0        0                0  \n",
      "1            0        1          0    0        0                0  \n",
      "2            1        0          0    0        0                0  \n",
      "3            0        0          0    0        0                0  \n",
      "4            1        0          0    0        0                1  \n",
      "...        ...      ...        ...  ...      ...              ...  \n",
      "4684         0        0          0    0        0                0  \n",
      "4685         0        0          0    0        0                0  \n",
      "4687         0        0          0    0        0                0  \n",
      "4688         0        0          0    0        0                0  \n",
      "4689         0        0          0    0        0                0  \n",
      "\n",
      "[3608 rows x 39 columns]\n"
     ]
    },
    {
     "name": "stderr",
     "output_type": "stream",
     "text": [
      "/tmp/ipykernel_146/2593257763.py:12: SettingWithCopyWarning: \n",
      "A value is trying to be set on a copy of a slice from a DataFrame\n",
      "\n",
      "See the caveats in the documentation: https://pandas.pydata.org/pandas-docs/stable/user_guide/indexing.html#returning-a-view-versus-a-copy\n",
      "  imdb[row.split(\"'\")[11]][idx]=1\n",
      "/tmp/ipykernel_146/2593257763.py:16: SettingWithCopyWarning: \n",
      "A value is trying to be set on a copy of a slice from a DataFrame\n",
      "\n",
      "See the caveats in the documentation: https://pandas.pydata.org/pandas-docs/stable/user_guide/indexing.html#returning-a-view-versus-a-copy\n",
      "  imdb[row.split(\"'\")[17]][idx]=1\n",
      "/tmp/ipykernel_146/2593257763.py:10: SettingWithCopyWarning: \n",
      "A value is trying to be set on a copy of a slice from a DataFrame\n",
      "\n",
      "See the caveats in the documentation: https://pandas.pydata.org/pandas-docs/stable/user_guide/indexing.html#returning-a-view-versus-a-copy\n",
      "  imdb[row.split(\"'\")[5]][idx]=1\n",
      "/tmp/ipykernel_146/2593257763.py:12: SettingWithCopyWarning: \n",
      "A value is trying to be set on a copy of a slice from a DataFrame\n",
      "\n",
      "See the caveats in the documentation: https://pandas.pydata.org/pandas-docs/stable/user_guide/indexing.html#returning-a-view-versus-a-copy\n",
      "  imdb[row.split(\"'\")[11]][idx]=1\n",
      "/tmp/ipykernel_146/2593257763.py:16: SettingWithCopyWarning: \n",
      "A value is trying to be set on a copy of a slice from a DataFrame\n",
      "\n",
      "See the caveats in the documentation: https://pandas.pydata.org/pandas-docs/stable/user_guide/indexing.html#returning-a-view-versus-a-copy\n",
      "  imdb[row.split(\"'\")[17]][idx]=1\n",
      "/tmp/ipykernel_146/2593257763.py:12: SettingWithCopyWarning: \n",
      "A value is trying to be set on a copy of a slice from a DataFrame\n",
      "\n",
      "See the caveats in the documentation: https://pandas.pydata.org/pandas-docs/stable/user_guide/indexing.html#returning-a-view-versus-a-copy\n",
      "  imdb[row.split(\"'\")[11]][idx]=1\n",
      "/tmp/ipykernel_146/2593257763.py:10: SettingWithCopyWarning: \n",
      "A value is trying to be set on a copy of a slice from a DataFrame\n",
      "\n",
      "See the caveats in the documentation: https://pandas.pydata.org/pandas-docs/stable/user_guide/indexing.html#returning-a-view-versus-a-copy\n",
      "  imdb[row.split(\"'\")[5]][idx]=1\n",
      "/tmp/ipykernel_146/2593257763.py:12: SettingWithCopyWarning: \n",
      "A value is trying to be set on a copy of a slice from a DataFrame\n",
      "\n",
      "See the caveats in the documentation: https://pandas.pydata.org/pandas-docs/stable/user_guide/indexing.html#returning-a-view-versus-a-copy\n",
      "  imdb[row.split(\"'\")[11]][idx]=1\n",
      "/tmp/ipykernel_146/2593257763.py:16: SettingWithCopyWarning: \n",
      "A value is trying to be set on a copy of a slice from a DataFrame\n",
      "\n",
      "See the caveats in the documentation: https://pandas.pydata.org/pandas-docs/stable/user_guide/indexing.html#returning-a-view-versus-a-copy\n",
      "  imdb[row.split(\"'\")[17]][idx]=1\n"
     ]
    }
   ],
   "source": [
    "# one hot encoder for genres\n",
    "genres=['Action',  'History', 'Adventure',  'Horror', 'Adult',  'Music', 'Animation',  'Musical', 'Biography',  'Mystery', 'Comedy',  'Romance', \n",
    "'Crime',   'Sci-Fi', 'Documentary',  'Short', 'Drama',  'Sport',  'Family',  'Thriller', 'Fantasy',  'Film-noir',    \n",
    "'History',  'Horror', 'Music', 'Mystery', 'Romance',  'Short',  'War', 'Western', 'Science Fiction']\n",
    "\n",
    "for i in genres:\n",
    "    imdb[i]=0\n",
    "\n",
    "for idx, row in enumerate(imdb['genres'][:20]):\n",
    "    imdb[row.split(\"'\")[5]][idx]=1\n",
    "    try:\n",
    "        imdb[row.split(\"'\")[11]][idx]=1\n",
    "    except IndexError:\n",
    "        pass\n",
    "    try:\n",
    "        imdb[row.split(\"'\")[17]][idx]=1\n",
    "    except IndexError:\n",
    "        pass\n",
    "    \n",
    "print(imdb)"
   ]
  },
  {
   "cell_type": "code",
   "execution_count": 13,
   "id": "19777c27",
   "metadata": {},
   "outputs": [
    {
     "name": "stdout",
     "output_type": "stream",
     "text": [
      "0       7.7\n",
      "1       6.9\n",
      "2       6.6\n",
      "3       7.1\n",
      "4       7.4\n",
      "       ... \n",
      "4684    0.0\n",
      "4685    7.3\n",
      "4687    6.1\n",
      "4688    4.6\n",
      "4689    0.0\n",
      "Name: vote_average, Length: 3608, dtype: float64\n"
     ]
    },
    {
     "data": {
      "image/png": "[encoded data removed]",
      "text/plain": [
       "<Figure size 432x288 with 1 Axes>"
      ]
     },
     "metadata": {
      "needs_background": "light"
     },
     "output_type": "display_data"
    },
    {
     "name": "stdout",
     "output_type": "stream",
     "text": [
      "3    1850\n",
      "2    1493\n",
      "1     144\n",
      "0      68\n",
      "4      53\n",
      "Name: vote_class, dtype: int64\n"
     ]
    },
    {
     "data": {
      "image/png": "[encoded data removed]",
      "text/plain": [
       "<Figure size 432x288 with 1 Axes>"
      ]
     },
     "metadata": {
      "needs_background": "light"
     },
     "output_type": "display_data"
    }
   ],
   "source": [
    "# split votes in 5 categories\n",
    "print(imdb['vote_average'])\n",
    "imdb['vote_average']=imdb['vote_average'].apply(lambda x: x+0.5)\n",
    "\n",
    "\n",
    "plt.hist(imdb[\"vote_average\"])\n",
    "plt.show()\n",
    "imdb['vote_class']=pd.cut(imdb[\"vote_average\"], bins=5, labels=[0, 1, 2, 3, 4])\n",
    "plt.hist(imdb[\"vote_class\"])\n",
    "print(imdb['vote_class'].value_counts())"
   ]
  },
  {
   "cell_type": "code",
   "execution_count": 14,
   "id": "3034ee08",
   "metadata": {},
   "outputs": [],
   "source": [
    "\n",
    "def clean_title(x):\n",
    "    '''\n",
    "    Method to normalize the movie titles\n",
    "    '''\n",
    "    for char in [\",\", \"'\", \".\", \":\", \";\", \"(\", \")\", \"/\", \"!\", \"?\", \"%\", \"-\", \"_\", \"=\"]:\n",
    "        x=x.replace(char, \"\")        \n",
    "    return x.lower()\n",
    "\n",
    "\n",
    "def drama(df):\n",
    "    '''\n",
    "    Method that returns subset containing all drama movies\n",
    "    '''\n",
    "    drama=[]\n",
    "    df=df.reset_index()\n",
    "    for row in df['genres']:\n",
    "        if \"Drama\" in row:\n",
    "            drama.append(True)\n",
    "        else:\n",
    "            drama.append(False)   \n",
    "    df=df.drop('index', axis=1)\n",
    "    df['drama']=pd.Series(drama)\n",
    "    return df.loc[df['drama']==True]\n",
    "    \n",
    "def after_date(df, year):\n",
    "    '''\n",
    "    Method that returns subset with only movies from year \n",
    "    '''\n",
    "    return imdb.loc[imdb['release_date']> year+'-01-01']\n",
    "\n",
    "\n",
    "\n",
    " \n",
    "rotten['movie_title']=rotten['movie_title'].apply(clean_title)\n",
    "imdb['title']=imdb['title'].apply(clean_title)"
   ]
  },
  {
   "cell_type": "markdown",
   "id": "a8edcce9",
   "metadata": {},
   "source": [
    "### Combining the imdb and rotten tomatoes datasets"
   ]
  },
  {
   "cell_type": "code",
   "execution_count": 15,
   "id": "b3972dde",
   "metadata": {},
   "outputs": [
    {
     "name": "stdout",
     "output_type": "stream",
     "text": [
      "Index(['original_release_date', 'runtime_x', 'tomatometer_status',\n",
      "       'tomatometer_rating', 'tomatometer_count', 'audience_status',\n",
      "       'audience_rating', 'audience_count', 'tomatometer_top_critics_count',\n",
      "       'adult', 'budget', 'genres', 'id', 'imdb_id', 'original_language',\n",
      "       'original_title', 'popularity', 'release_date', 'runtime_y', 'status',\n",
      "       'title', 'vote_average', 'vote_count', 'Action', 'History', 'Adventure',\n",
      "       'Horror', 'Adult', 'Music', 'Animation', 'Musical', 'Biography',\n",
      "       'Mystery', 'Comedy', 'Romance', 'Crime', 'Sci-Fi', 'Documentary',\n",
      "       'Short', 'Drama', 'Sport', 'Family', 'Thriller', 'Fantasy', 'Film-noir',\n",
      "       'War', 'Western', 'Science Fiction', 'vote_class'],\n",
      "      dtype='object')\n",
      "movies in rotten data:  17712\n",
      "movies in imdb data:  3608\n",
      "movies in overlap:  2553\n"
     ]
    }
   ],
   "source": [
    "# combine rotten and imdb data\n",
    "\n",
    "def combine(df1, df2):\n",
    "    result = pd.merge(df1, df2, how=\"inner\", left_on='movie_title', right_on='title')\n",
    "    result = result.drop(['movie_title'], axis=1)\n",
    "    return result\n",
    "\n",
    "combined=combine(rotten, imdb)\n",
    "print(combined.columns)\n",
    "print(\"movies in rotten data: \", rotten.__len__())\n",
    "print(\"movies in imdb data: \", imdb.__len__())\n",
    "print(\"movies in overlap: \", combined.__len__())"
   ]
  },
  {
   "cell_type": "code",
   "execution_count": 16,
   "id": "968896f3",
   "metadata": {},
   "outputs": [
    {
     "name": "stdout",
     "output_type": "stream",
     "text": [
      "Rotten             7565\n",
      "Fresh              6844\n",
      "Certified-Fresh    3259\n",
      "Name: tomatometer_status, dtype: int64\n",
      "0                         [{'id': 37, 'name': 'Western'}]\n",
      "1                         [{'id': 37, 'name': 'Western'}]\n",
      "2                           [{'id': 18, 'name': 'Drama'}]\n",
      "3       [{'id': 28, 'name': 'Action'}, {'id': 12, 'nam...\n",
      "4       [{'id': 35, 'name': 'Comedy'}, {'id': 18, 'nam...\n",
      "                              ...                        \n",
      "2548    [{'id': 10751, 'name': 'Family'}, {'id': 14, '...\n",
      "2549    [{'id': 18, 'name': 'Drama'}, {'id': 10752, 'n...\n",
      "2550    [{'id': 28, 'name': 'Action'}, {'id': 12, 'nam...\n",
      "2551    [{'id': 35, 'name': 'Comedy'}, {'id': 80, 'nam...\n",
      "2552    [{'id': 27, 'name': 'Horror'}, {'id': 28, 'nam...\n",
      "Name: genres, Length: 2553, dtype: object\n"
     ]
    }
   ],
   "source": [
    "print(rotten['tomatometer_status'].value_counts())\n",
    "print(combined['genres']) ### extract genres"
   ]
  },
  {
   "cell_type": "code",
   "execution_count": 10,
   "id": "4d93a43e",
   "metadata": {},
   "outputs": [
    {
     "name": "stdout",
     "output_type": "stream",
     "text": [
      "Index(['original_release_date', 'runtime_x', 'tomatometer_status',\n",
      "       'tomatometer_rating', 'tomatometer_count', 'audience_status',\n",
      "       'audience_rating', 'audience_count', 'tomatometer_top_critics_count',\n",
      "       'adult', 'budget', 'genres', 'id', 'imdb_id', 'original_language',\n",
      "       'original_title', 'popularity', 'release_date', 'runtime_y', 'status',\n",
      "       'title', 'vote_average', 'vote_count', 'Action', 'History', 'Adventure',\n",
      "       'Horror', 'Adult', 'Music', 'Animation', 'Musical', 'Biography',\n",
      "       'Mystery', 'Comedy', 'Romance', 'Crime', 'Sci-Fi', 'Documentary',\n",
      "       'Short', 'Drama', 'Sport', 'Family', 'Thriller', 'Fantasy', 'Film-noir',\n",
      "       'War', 'Western', 'Science Fiction', 'vote_class'],\n",
      "      dtype='object')\n",
      "2553\n"
     ]
    }
   ],
   "source": [
    "print(combined.columns)\n",
    "print(combined.__len__())"
   ]
  },
  {
   "cell_type": "markdown",
   "id": "e6717012",
   "metadata": {},
   "source": [
    "### Predicting IMDB score (classification)"
   ]
  },
  {
   "cell_type": "code",
   "execution_count": 11,
   "id": "5dfcb1a2",
   "metadata": {},
   "outputs": [],
   "source": [
    "le = LabelEncoder()\n",
    "imdb1 = imdb[[ 'adult', 'budget', 'genres', 'id', 'imdb_id', 'original_language',\n",
    "       'original_title', 'popularity', 'release_date', 'status',\n",
    "       'title', 'vote_average', 'vote_count', 'Action', 'History', 'Adventure',\n",
    "       'Horror', 'Adult', 'Music', 'Animation', 'Musical', 'Biography',\n",
    "       'Mystery', 'Comedy', 'Romance', 'Crime', 'Sci-Fi', 'Documentary',\n",
    "       'Short', 'Drama', 'Sport', 'Family', 'Thriller', 'Fantasy', 'Film-noir',\n",
    "       'War', 'Western', 'Science Fiction', 'vote_class']].apply(le.fit_transform)"
   ]
  },
  {
   "cell_type": "code",
   "execution_count": 12,
   "id": "1e898933",
   "metadata": {},
   "outputs": [],
   "source": [
    "X=imdb1.drop(['vote_count', 'vote_class', 'popularity', 'vote_average'], axis=1)\n",
    "\n",
    "y=imdb1['vote_class']\n",
    "\n",
    "X_train, X_test, y_train, y_test=train_test_split(X, y)"
   ]
  },
  {
   "cell_type": "code",
   "execution_count": 13,
   "id": "2f3a6faf",
   "metadata": {},
   "outputs": [
    {
     "name": "stdout",
     "output_type": "stream",
     "text": [
      "1.0\n",
      "0.5975609756097561\n",
      "              precision    recall  f1-score   support\n",
      "\n",
      "           0       0.33      0.09      0.14        11\n",
      "           1       0.00      0.00      0.00        43\n",
      "           2       0.51      0.55      0.53       346\n",
      "           3       0.66      0.71      0.69       489\n",
      "           4       0.00      0.00      0.00        13\n",
      "\n",
      "    accuracy                           0.60       902\n",
      "   macro avg       0.30      0.27      0.27       902\n",
      "weighted avg       0.56      0.60      0.58       902\n",
      "\n"
     ]
    },
    {
     "name": "stderr",
     "output_type": "stream",
     "text": [
      "/home/piegarroni/anaconda3/envs/condaenv/lib/python3.9/site-packages/sklearn/metrics/_classification.py:1327: UndefinedMetricWarning: Precision and F-score are ill-defined and being set to 0.0 in labels with no predicted samples. Use `zero_division` parameter to control this behavior.\n",
      "  _warn_prf(average, modifier, msg_start, len(result))\n",
      "/home/piegarroni/anaconda3/envs/condaenv/lib/python3.9/site-packages/sklearn/metrics/_classification.py:1327: UndefinedMetricWarning: Precision and F-score are ill-defined and being set to 0.0 in labels with no predicted samples. Use `zero_division` parameter to control this behavior.\n",
      "  _warn_prf(average, modifier, msg_start, len(result))\n",
      "/home/piegarroni/anaconda3/envs/condaenv/lib/python3.9/site-packages/sklearn/metrics/_classification.py:1327: UndefinedMetricWarning: Precision and F-score are ill-defined and being set to 0.0 in labels with no predicted samples. Use `zero_division` parameter to control this behavior.\n",
      "  _warn_prf(average, modifier, msg_start, len(result))\n"
     ]
    }
   ],
   "source": [
    "classifier=RandomForestClassifier()\n",
    "classifier.fit(X_train, y_train)\n",
    "\n",
    "y_pred=classifier.predict(X_test)\n",
    "\n",
    "y_train_pred = classifier.predict(X_train) \n",
    "\n",
    "print(accuracy_score(y_train, y_train_pred))\n",
    "print(accuracy_score(y_test, y_pred))\n",
    "print(classification_report(y_test, y_pred))"
   ]
  },
  {
   "cell_type": "code",
   "execution_count": 14,
   "id": "e9e0c6c8",
   "metadata": {},
   "outputs": [
    {
     "ename": "NameError",
     "evalue": "name 'model' is not defined",
     "output_type": "error",
     "traceback": [
      "\u001b[0;31m---------------------------------------------------------------------------\u001b[0m",
      "\u001b[0;31mNameError\u001b[0m                                 Traceback (most recent call last)",
      "Input \u001b[0;32mIn [14]\u001b[0m, in \u001b[0;36m<cell line: 2>\u001b[0;34m()\u001b[0m\n\u001b[1;32m      1\u001b[0m importances\u001b[38;5;241m=\u001b[39mclassifier\u001b[38;5;241m.\u001b[39mfeature_importances_\n\u001b[0;32m----> 2\u001b[0m std \u001b[38;5;241m=\u001b[39m np\u001b[38;5;241m.\u001b[39mstd([tree\u001b[38;5;241m.\u001b[39mfeature_importances_ \u001b[38;5;28;01mfor\u001b[39;00m tree \u001b[38;5;129;01min\u001b[39;00m \u001b[43mmodel\u001b[49m\u001b[38;5;241m.\u001b[39mestimators_], axis\u001b[38;5;241m=\u001b[39m\u001b[38;5;241m0\u001b[39m)\n\u001b[1;32m      4\u001b[0m forest_importances \u001b[38;5;241m=\u001b[39m pd\u001b[38;5;241m.\u001b[39mSeries(importances, index\u001b[38;5;241m=\u001b[39mX\u001b[38;5;241m.\u001b[39mcolumns)\n\u001b[1;32m      6\u001b[0m fig, ax \u001b[38;5;241m=\u001b[39m plt\u001b[38;5;241m.\u001b[39msubplots(figsize\u001b[38;5;241m=\u001b[39m[\u001b[38;5;241m10\u001b[39m, \u001b[38;5;241m6\u001b[39m])\n",
      "\u001b[0;31mNameError\u001b[0m: name 'model' is not defined"
     ]
    }
   ],
   "source": [
    "importances=classifier.feature_importances_\n",
    "std = np.std([tree.feature_importances_ for tree in model.estimators_], axis=0)\n",
    "\n",
    "forest_importances = pd.Series(importances, index=X.columns)\n",
    "\n",
    "fig, ax = plt.subplots(figsize=[10, 6])\n",
    "forest_importances.plot.bar(yerr=std, ax=ax)\n",
    "ax.set_title(\"Feature importances using MDI\")\n",
    "ax.set_ylabel(\"Mean decrease in impurity\")"
   ]
  },
  {
   "cell_type": "code",
   "execution_count": null,
   "id": "e174c15d",
   "metadata": {},
   "outputs": [],
   "source": [
    "for i, imp in enumerate(importances):\n",
    "    print(X.columns[i])\n",
    "    print(imp)"
   ]
  },
  {
   "cell_type": "markdown",
   "id": "a03ffafd",
   "metadata": {},
   "source": [
    "### Predicting rotten tomatoes status (classification)"
   ]
  },
  {
   "cell_type": "raw",
   "id": "00f67815",
   "metadata": {},
   "source": [
    "combined.to_csv(\"meta_rotten_drama.csv\")"
   ]
  },
  {
   "cell_type": "code",
   "execution_count": null,
   "id": "4d277b8a",
   "metadata": {},
   "outputs": [],
   "source": [
    "le = LabelEncoder()\n",
    "combined = combined[['original_release_date', 'runtime_x', 'tomatometer_status',\n",
    "       'tomatometer_rating', 'tomatometer_count', 'audience_status',\n",
    "       'audience_rating', 'audience_count', 'tomatometer_top_critics_count',\n",
    "       'adult', 'budget', 'genres', 'id', 'imdb_id', 'original_language',\n",
    "       'original_title', 'popularity', 'release_date', 'runtime_y', 'status',\n",
    "       'title', 'vote_average', 'vote_count', 'Action', 'History', 'Adventure',\n",
    "       'Horror', 'Adult', 'Music', 'Animation', 'Musical', 'Biography',\n",
    "       'Mystery', 'Comedy', 'Romance', 'Crime', 'Sci-Fi', 'Documentary',\n",
    "       'Short', 'Drama', 'Sport', 'Family', 'Thriller', 'Fantasy', 'Film-noir',\n",
    "       'War', 'Western', 'Science Fiction']].apply(le.fit_transform)"
   ]
  },
  {
   "cell_type": "code",
   "execution_count": null,
   "id": "421c4360",
   "metadata": {},
   "outputs": [],
   "source": [
    "X=combined.drop(['tomatometer_status', 'tomatometer_rating', 'tomatometer_top_critics_count', 'tomatometer_count', 'vote_count', \n",
    "                 'popularity', 'vote_average',  'audience_count', 'audience_rating', 'audience_status'], axis=1)\n",
    "\n",
    "y=combined['tomatometer_status']\n",
    "\n",
    "X_train, X_test, y_train, y_test=train_test_split(X, y)"
   ]
  },
  {
   "cell_type": "code",
   "execution_count": null,
   "id": "70b0cdd3",
   "metadata": {},
   "outputs": [],
   "source": [
    "classifier=RandomForestClassifier()\n",
    "classifier.fit(X_train, y_train)\n",
    "\n",
    "y_pred=classifier.predict(X_test)\n",
    "\n",
    "y_train_pred = classifier.predict(X_train) \n",
    "\n",
    "print(accuracy_score(y_train, y_train_pred))\n",
    "print(accuracy_score(y_test, y_pred))\n",
    "print(classification_report(y_test, y_pred))"
   ]
  },
  {
   "cell_type": "code",
   "execution_count": null,
   "id": "e43fab44",
   "metadata": {},
   "outputs": [],
   "source": [
    "importances=classifier.feature_importances_\n",
    "std = np.std([tree.feature_importances_ for tree in model.estimators_], axis=0)\n",
    "\n",
    "forest_importances = pd.Series(importances, index=X.columns)\n",
    "\n",
    "\n",
    "print(forest_importances)"
   ]
  },
  {
   "cell_type": "markdown",
   "id": "e7fff8f2",
   "metadata": {},
   "source": [
    "### Predicting IMDB score (regression)"
   ]
  },
  {
   "cell_type": "code",
   "execution_count": null,
   "id": "74a434d5",
   "metadata": {},
   "outputs": [],
   "source": [
    "le = LabelEncoder()\n",
    "imdb1 = imdb[['adult', 'budget', 'id', 'imdb_id', 'original_language',\n",
    "       'original_title', 'popularity', 'genres','release_date', 'status',\n",
    "       'title', 'vote_average', 'vote_count', 'Action', 'History', 'Adventure',\n",
    "       'Horror', 'Adult', 'Music', 'Animation', 'Musical', 'Biography',\n",
    "       'Mystery', 'Comedy', 'Romance', 'Crime', 'Sci-Fi', 'Documentary',\n",
    "       'Short', 'Drama', 'Sport', 'Family', 'Thriller', 'Fantasy', 'Film-noir',\n",
    "       'War', 'Western', 'Science Fiction']].apply(le.fit_transform)"
   ]
  },
  {
   "cell_type": "code",
   "execution_count": null,
   "id": "920013df",
   "metadata": {},
   "outputs": [],
   "source": [
    "X=imdb1.drop(['vote_count', 'popularity', 'vote_average', 'genres'], axis=1)\n",
    "y=imdb1['vote_average']\n",
    "\n",
    "X_train, X_test, y_train, y_test=train_test_split(X, y)\n",
    "\n",
    "\n",
    "regressor=RandomForestRegressor(n_estimators=100, max_depth=10)\n",
    "regressor.fit(X_train, y_train)\n",
    "\n",
    "y_pred=regressor.predict(X_test)\n",
    "\n",
    "y_train_pred = regressor.predict(X_train) \n",
    "\n",
    "print(\"train MSE: \", mean_squared_error(y_train, y_train_pred) )\n",
    "print(\"test MSE: \", mean_squared_error(y_test, y_pred) )\n",
    "print(\"train variance\", explained_variance_score(y_train, y_train_pred))\n",
    "print(\"test variance\", explained_variance_score(y_test, y_pred))"
   ]
  },
  {
   "cell_type": "markdown",
   "id": "9e655a4f",
   "metadata": {},
   "source": [
    "### Predicting movie's popularity"
   ]
  },
  {
   "cell_type": "code",
   "execution_count": null,
   "id": "82021694",
   "metadata": {},
   "outputs": [],
   "source": [
    "plt.figure(figsize=[10, 10])\n",
    "plt.hist(imdb['popularity'])\n",
    "plt.show()"
   ]
  },
  {
   "cell_type": "code",
   "execution_count": null,
   "id": "69e9a6ec",
   "metadata": {},
   "outputs": [],
   "source": [
    "le = LabelEncoder()\n",
    "imdb = imdb[['adult', 'budget', 'genres', 'id', 'imdb_id', 'original_language',\n",
    "       'original_title', 'popularity', 'release_date', 'status',\n",
    "       'title', 'vote_average', 'vote_count', 'Action', 'History', 'Adventure',\n",
    "       'Horror', 'Adult', 'Music', 'Animation', 'Musical', 'Biography',\n",
    "       'Mystery', 'Comedy', 'Romance', 'Crime', 'Sci-Fi', 'Documentary',\n",
    "       'Short', 'Drama', 'Sport', 'Family', 'Thriller', 'Fantasy', 'Film-noir',\n",
    "       'War', 'Western', 'Science Fiction']].apply(le.fit_transform)"
   ]
  },
  {
   "cell_type": "code",
   "execution_count": null,
   "id": "471bbef6",
   "metadata": {},
   "outputs": [],
   "source": [
    "#X=imdb.drop(['popularity', 'vote_count'], axis=1)\n",
    "X=imdb.drop(['popularity', 'vote_count', 'Action', 'History', 'Adventure', 'Horror', 'Adult', 'Music', 'Animation', 'Musical', 'Biography','Mystery', 'Comedy', 'Romance', 'Crime', 'Sci-Fi', 'Documentary',  'Short', 'Drama', 'Sport', 'Family', 'Thriller', 'Fantasy', 'Film-noir','War', 'Western', 'Science Fiction'], axis=1)\n",
    "# try and drop this to see if genres change prediction 'Action', 'History', 'Adventure', 'Horror', 'Adult', 'Music', 'Animation', 'Musical', 'Biography','Mystery', 'Comedy', 'Romance', 'Crime', 'Sci-Fi', 'Documentary',  'Short', 'Drama', 'Sport', 'Family', 'Thriller', 'Fantasy', 'Film-noir','War', 'Western', 'Science Fiction'\n",
    "\n",
    "y=imdb['popularity']\n",
    "\n",
    "X_train, X_test, y_train, y_test=train_test_split(X, y)"
   ]
  },
  {
   "cell_type": "code",
   "execution_count": null,
   "id": "d49e68a6",
   "metadata": {},
   "outputs": [],
   "source": [
    "print(y)"
   ]
  },
  {
   "cell_type": "code",
   "execution_count": null,
   "id": "30072b7a",
   "metadata": {},
   "outputs": [],
   "source": [
    "model=RandomForestRegressor(n_estimators=100, max_depth=10)\n",
    "model.fit(X_train, y_train)\n",
    "\n",
    "y_pred=model.predict(X_test)\n",
    "\n",
    "y_train_pred = model.predict(X_train) \n",
    "\n",
    "print(\"train MSE: \", mean_squared_error(y_train, y_train_pred) )\n",
    "print(\"test MSE: \", mean_squared_error(y_test, y_pred) )\n",
    "print(\"train variance\", explained_variance_score(y_train, y_train_pred))\n",
    "print(\"test variance\", explained_variance_score(y_test, y_pred))"
   ]
  },
  {
   "cell_type": "code",
   "execution_count": null,
   "id": "889343b9",
   "metadata": {},
   "outputs": [],
   "source": [
    "\n",
    "importances=model.feature_importances_\n",
    "std = np.std([tree.feature_importances_ for tree in model.estimators_], axis=0)\n",
    "\n",
    "forest_importances = pd.Series(importances, index=X.columns)\n",
    "\n",
    "fig, ax = plt.subplots(figsize=[10, 6])\n",
    "forest_importances.plot.bar(yerr=std, ax=ax)\n",
    "ax.set_title(\"Feature importances using MDI\")\n",
    "ax.set_ylabel(\"Mean decrease in impurity\")\n"
   ]
  },
  {
   "cell_type": "code",
   "execution_count": null,
   "id": "c96057fd",
   "metadata": {},
   "outputs": [],
   "source": [
    "print(len(imdb))\n",
    "print(len(imdb['id'].unique()))\n",
    "print(len(imdb['imdb_id'].unique()))"
   ]
  },
  {
   "cell_type": "code",
   "execution_count": null,
   "id": "daf0635d",
   "metadata": {},
   "outputs": [],
   "source": []
  }
 ],
 "metadata": {
  "kernelspec": {
   "display_name": "Python 3 (ipykernel)",
   "language": "python",
   "name": "python3"
  },
  "language_info": {
   "codemirror_mode": {
    "name": "ipython",
    "version": 3
   },
   "file_extension": ".py",
   "mimetype": "text/x-python",
   "name": "python",
   "nbconvert_exporter": "python",
   "pygments_lexer": "ipython3",
   "version": "3.9.0"
  }
 },
 "nbformat": 4,
 "nbformat_minor": 5
}
