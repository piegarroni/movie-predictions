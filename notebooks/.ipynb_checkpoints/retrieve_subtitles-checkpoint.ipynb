{
 "cells": [
  {
   "cell_type": "code",
   "execution_count": 1,
   "id": "9f337e8f",
   "metadata": {},
   "outputs": [],
   "source": [
    "import numpy as np\n",
    "import pandas as pd\n",
    "import matplotlib.pyplot as plt\n",
    "import os\n",
    "import wget\n",
    "import requests\n",
    "import bs4"
   ]
  },
  {
   "cell_type": "code",
   "execution_count": 62,
   "id": "740f6a54",
   "metadata": {},
   "outputs": [],
   "source": [
    "headers={'User-Agent': 'Mozilla/5.0 (Windows NT 10.0; Win64; x64) AppleWebKit/537.36 (KHTML, like Gecko) Chrome/102.0.0.0 Safari/537.36'}"
   ]
  },
  {
   "cell_type": "code",
   "execution_count": null,
   "id": "411498e3",
   "metadata": {},
   "outputs": [],
   "source": [
    "#https://www.kaggle.com/datasets/rounakbanik/the-movies-dataset?select=movies_metadata.csv"
   ]
  },
  {
   "cell_type": "code",
   "execution_count": 101,
   "id": "0c3e7e54",
   "metadata": {},
   "outputs": [
    {
     "name": "stdout",
     "output_type": "stream",
     "text": [
      "200\n",
      "<class 'str'>\n",
      "100% [..............................................................................] 35042 / 35042"
     ]
    },
    {
     "data": {
      "text/plain": [
       "'joker-2019-english-yify-2599.zip'"
      ]
     },
     "execution_count": 101,
     "metadata": {},
     "output_type": "execute_result"
    }
   ],
   "source": [
    "#https://moviesubtitlesrt.com/hollywood/joker-2019-english-subtitles/\n",
    "\n",
    "def search_subtitle(name, year):\n",
    "    name=name.replace(\" \", \"-\")\n",
    "    name_year=name+\"-\"+str(year)\n",
    "    #print(name_year)\n",
    "    url= \"https://moviesubtitlesrt.com/hollywood/\" +name_year+ \"-english-subtitles\"\n",
    "    r=requests.post(url, headers=headers)#, params={'query':name})\n",
    "    print(r.status_code)\n",
    "    if r.status_code==200:\n",
    "        return(r.content)\n",
    "    #return r.content\n",
    "    \n",
    "def parse_html(content):\n",
    "    soup=bs4.BeautifulSoup(content, 'html.parser')\n",
    "   # print(soup)\n",
    "    return soup\n",
    "\n",
    "def extract_link(soup):\n",
    "    a = soup.find(\"a\", attrs={\"class\": \"downloadbutton\"})\n",
    "    return(a['href'])\n",
    "\n",
    "content=search_subtitle(\"joker\", 2019)\n",
    "sp= parse_html(content)\n",
    "link = extract_links(sp)\n",
    "\n",
    "wget.download(str(link))"
   ]
  },
  {
   "cell_type": "code",
   "execution_count": 2,
   "id": "ab185f0a",
   "metadata": {},
   "outputs": [],
   "source": [
    "# try https://exerror.com/runtimeerror-asyncio-run-cannot-be-called-from-a-running-event-loop/\n",
    "# check https://api.mtr.pub/topics/subtitle-downloader  \n",
    "\n",
    "#https://pypi.org/project/subsceneAPI/"
   ]
  }
 ],
 "metadata": {
  "interpreter": {
   "hash": "867c52d157f4dab27b6a6a9437b930bd7fa00f0d32cd0d4c5a7eb54e766bc728"
  },
  "kernelspec": {
   "display_name": "Python 3 (ipykernel)",
   "language": "python",
   "name": "python3"
  },
  "language_info": {
   "codemirror_mode": {
    "name": "ipython",
    "version": 3
   },
   "file_extension": ".py",
   "mimetype": "text/x-python",
   "name": "python",
   "nbconvert_exporter": "python",
   "pygments_lexer": "ipython3",
   "version": "3.9.0"
  }
 },
 "nbformat": 4,
 "nbformat_minor": 5
}
