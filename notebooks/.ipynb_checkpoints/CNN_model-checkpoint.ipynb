{
 "cells": [
  {
   "cell_type": "code",
   "execution_count": 1,
   "id": "6a195db5",
   "metadata": {},
   "outputs": [
    {
     "name": "stderr",
     "output_type": "stream",
     "text": [
      "2022-06-12 20:48:54.328218: I tensorflow/stream_executor/platform/default/dso_loader.cc:53] Successfully opened dynamic library libcudart.so.11.0\n"
     ]
    }
   ],
   "source": [
    "import pandas as pd\n",
    "import numpy as np\n",
    "import tensorflow as tf\n",
    "from tensorflow.keras.layers import Conv2D, BatchNormalization, AveragePooling2D, Dense, GlobalAveragePooling2D, SpatialDropout2D\n",
    "from tensorflow.keras.optimizers import Adam\n"
   ]
  },
  {
   "cell_type": "code",
   "execution_count": 2,
   "id": "8f1f2358",
   "metadata": {},
   "outputs": [
    {
     "name": "stdout",
     "output_type": "stream",
     "text": [
      "imdb_id\n",
      "tt0042281     Fresh\n",
      "tt0112454     Fresh\n",
      "tt0491162    Rotten\n",
      "tt0491162    Rotten\n",
      "tt1032819    Rotten\n",
      "              ...  \n",
      "tt1198156    Rotten\n",
      "tt3687316    Rotten\n",
      "tt0481797    Rotten\n",
      "tt2131698    Rotten\n",
      "tt1363468    Rotten\n",
      "Name: tomatometer_status, Length: 1325, dtype: object\n"
     ]
    }
   ],
   "source": [
    "data=pd.read_csv('../data/meta_rotten_drama.csv')\n",
    "data=data.set_index('imdb_id')\n",
    "y=data['tomatometer_status']\n",
    "\n",
    "print(y)"
   ]
  },
  {
   "cell_type": "code",
   "execution_count": 7,
   "id": "6c918c71",
   "metadata": {},
   "outputs": [],
   "source": [
    "class conv_block():  \n",
    "    def __init__(self, n_layers, kernel_size=(5, 5), dropout_rate=0.2):\n",
    "        self.conv = Conv2D(n_layers, kernel_size, activation='relu', padding='same')\n",
    "        self.conv2 = Conv2D(n_layers*2, kernel_size, activation='relu', padding='same')\n",
    "        self.conv3 = Conv2D(n_layers*2, kernel_size, activation='relu', padding='same')\n",
    "        self.conv4 = Conv2D(n_layers, kernel_size, activation='relu', padding='same')      \n",
    "        self.pooling = AveragePooling2D(2)\n",
    "        self.bn = BatchNormalization()\n",
    "        self.dropout = SpatialDropout2D(dropout_rate)\n",
    "        \n",
    "    def call(self, x):\n",
    "        x = self.conv(x)\n",
    "        x = self.conv2(x)\n",
    "        x = self.conv3(x)\n",
    "        x = self.conv4(x)\n",
    "        x = self.pooling(x)\n",
    "        x = self.bn(x)\n",
    "        x = self.dropout(x)\n",
    "        return x\n",
    "                       \n",
    "class CNN():\n",
    "    def __init__(self):\n",
    "        self.conv_block1 = conv_block(512)\n",
    "        self.conv_block2 = conv_block(256)\n",
    "        self.conv_block3 = conv_block(128)\n",
    "        self.conv_block4 = conv_block(64)        \n",
    "        self.pool=GlobalAveragePooling2D()  \n",
    "        self.dense = Dense(3)\n",
    "        \n",
    "    def call(self, x):     \n",
    "        x = self.conv_block1(x)\n",
    "        x = self.conv_block2(x)\n",
    "        x = self.conv_block3(x)\n",
    "        x = self.conv_block4(x)\n",
    "        x = self.flatten(x)\n",
    "        x = self.dense(x)    \n",
    "        return x\n"
   ]
  },
  {
   "cell_type": "code",
   "execution_count": 9,
   "id": "25ed92f6",
   "metadata": {},
   "outputs": [
    {
     "ename": "AttributeError",
     "evalue": "'CNN' object has no attribute 'summary'",
     "output_type": "error",
     "traceback": [
      "\u001b[0;31m---------------------------------------------------------------------------\u001b[0m",
      "\u001b[0;31mAttributeError\u001b[0m                            Traceback (most recent call last)",
      "Input \u001b[0;32mIn [9]\u001b[0m, in \u001b[0;36m<cell line: 2>\u001b[0;34m()\u001b[0m\n\u001b[1;32m      1\u001b[0m model\u001b[38;5;241m=\u001b[39mCNN()\n\u001b[0;32m----> 2\u001b[0m \u001b[43mmodel\u001b[49m\u001b[38;5;241;43m.\u001b[39;49m\u001b[43msummary\u001b[49m()\n",
      "\u001b[0;31mAttributeError\u001b[0m: 'CNN' object has no attribute 'summary'"
     ]
    }
   ],
   "source": [
    "model=CNN()\n",
    "model.summary()\n",
    "#model.compile(optimizer=Adam, loss=[accuracy],)\n",
    "#model.fit(x_train, y_train, batch_size=64, epochs=10, validation_data=(x_val, y_val))"
   ]
  },
  {
   "cell_type": "code",
   "execution_count": null,
   "id": "e9dc513c",
   "metadata": {},
   "outputs": [],
   "source": [
    "model.evaluate(x_test, y_test)"
   ]
  },
  {
   "cell_type": "raw",
   "id": "cda56654",
   "metadata": {},
   "source": [
    "from tensorflow.keras.applications import ResNet50\n",
    "\n",
    "model=ResNet50()\n",
    "model.summary()"
   ]
  },
  {
   "cell_type": "code",
   "execution_count": null,
   "id": "1916bb88",
   "metadata": {},
   "outputs": [],
   "source": [
    "# https://huggingface.co/docs/transformers/tasks/sequence_classification for transformers classification"
   ]
  }
 ],
 "metadata": {
  "kernelspec": {
   "display_name": "Python 3 (ipykernel)",
   "language": "python",
   "name": "python3"
  },
  "language_info": {
   "codemirror_mode": {
    "name": "ipython",
    "version": 3
   },
   "file_extension": ".py",
   "mimetype": "text/x-python",
   "name": "python",
   "nbconvert_exporter": "python",
   "pygments_lexer": "ipython3",
   "version": "3.9.0"
  }
 },
 "nbformat": 4,
 "nbformat_minor": 5
}
