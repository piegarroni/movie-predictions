{
 "cells": [
  {
   "cell_type": "code",
   "execution_count": 1,
   "id": "400b15f3",
   "metadata": {},
   "outputs": [],
   "source": [
    "import numpy as np\n",
    "import pandas as pd\n",
    "from gensim.parsing.preprocessing import remove_stopwords\n",
    "from sklearn.ensemble import RandomForestClassifier\n",
    "from sklearn.metrics import accuracy_score, classification_report\n",
    "from sklearn.model_selection import train_test_split\n",
    "from sklearn.preprocessing import LabelEncoder"
   ]
  },
  {
   "cell_type": "code",
   "execution_count": 2,
   "id": "9e38cb62",
   "metadata": {},
   "outputs": [
    {
     "name": "stdout",
     "output_type": "stream",
     "text": [
      "                                             movie_title  \\\n",
      "0      Percy Jackson & the Olympians: The Lightning T...   \n",
      "1                                            Please Give   \n",
      "2                                                     10   \n",
      "3                        12 Angry Men (Twelve Angry Men)   \n",
      "4                           20,000 Leagues Under The Sea   \n",
      "...                                                  ...   \n",
      "17707                                          Zoot Suit   \n",
      "17708                                           Zootopia   \n",
      "17709                                    Zorba the Greek   \n",
      "17710                                               Zulu   \n",
      "17711                                          Zulu Dawn   \n",
      "\n",
      "      original_release_date  runtime tomatometer_status  tomatometer_rating  \\\n",
      "0                2010-02-12    119.0             Rotten                49.0   \n",
      "1                2010-04-30     90.0    Certified-Fresh                87.0   \n",
      "2                1979-10-05    122.0              Fresh                67.0   \n",
      "3                1957-04-13     95.0    Certified-Fresh               100.0   \n",
      "4                1954-01-01    127.0              Fresh                89.0   \n",
      "...                     ...      ...                ...                 ...   \n",
      "17707            1981-10-02    104.0             Rotten                56.0   \n",
      "17708            2016-03-04    108.0    Certified-Fresh                98.0   \n",
      "17709            1964-12-17    142.0              Fresh                80.0   \n",
      "17710            1964-06-17    135.0              Fresh                96.0   \n",
      "17711            1979-12-14    121.0             Rotten                50.0   \n",
      "\n",
      "       tomatometer_count audience_status  audience_rating  audience_count  \\\n",
      "0                  149.0         Spilled             53.0        254421.0   \n",
      "1                  142.0         Upright             64.0         11574.0   \n",
      "2                   24.0         Spilled             53.0         14684.0   \n",
      "3                   54.0         Upright             97.0        105386.0   \n",
      "4                   27.0         Upright             74.0         68918.0   \n",
      "...                  ...             ...              ...             ...   \n",
      "17707                9.0         Upright             74.0          1195.0   \n",
      "17708              291.0         Upright             92.0        101511.0   \n",
      "17709               10.0         Upright             86.0          7146.0   \n",
      "17710               23.0         Upright             91.0         30193.0   \n",
      "17711                8.0         Upright             62.0          4469.0   \n",
      "\n",
      "       tomatometer_top_critics_count  \n",
      "0                                 43  \n",
      "1                                 44  \n",
      "2                                  2  \n",
      "3                                  6  \n",
      "4                                  5  \n",
      "...                              ...  \n",
      "17707                              2  \n",
      "17708                             50  \n",
      "17709                              0  \n",
      "17710                              6  \n",
      "17711                              0  \n",
      "\n",
      "[17712 rows x 10 columns]\n"
     ]
    }
   ],
   "source": [
    "# loading datasets and preliminary cleaning\n",
    "rotten=pd.read_csv('../../data/rotten_tomatoes_movies.csv')\n",
    "rotten=rotten.drop(['rotten_tomatoes_link', 'content_rating', 'actors', 'streaming_release_date', \n",
    "                    'movie_info', 'critics_consensus', 'genres', 'directors', 'authors',# 'original_release_date',  \n",
    "                    'production_company', 'tomatometer_fresh_critics_count', 'tomatometer_rotten_critics_count'], axis=1)\n",
    "\n",
    "\n",
    "meta=pd.read_csv('../../data/movies_meta.csv')\n",
    "meta=meta.loc[meta['original_language']=='en']  # only english movies\n",
    "meta=meta.drop(['production_countries', 'overview', 'tagline', 'belongs_to_collection', 'homepage', 'revenue', 'spoken_languages', 'video', 'homepage', \"poster_path\", 'production_companies'], axis=1)\n",
    "#meta['release_date']=pd.to_datetime(meta['release_date'])\n",
    "print(rotten)"
   ]
  },
  {
   "cell_type": "raw",
   "id": "f684c814",
   "metadata": {},
   "source": [
    "# only drama movies (movies with drama in genres)\n",
    "\n",
    "def drama(df):\n",
    "    drama=[]\n",
    "    df=df.reset_index()\n",
    "    for row in df['genres']:\n",
    "        if \"Drama\" in row:\n",
    "            drama.append(True)\n",
    "        else:\n",
    "            drama.append(False)\n",
    "            \n",
    "    df=df.drop('index', axis=1)\n",
    "    df['drama']=pd.Series(drama)\n",
    "    return df\n",
    "\n",
    "meta_drama=drama(meta)\n",
    "meta_drama=meta_drama.loc[meta_drama['drama']==True]\n",
    "print(meta_drama)"
   ]
  },
  {
   "cell_type": "raw",
   "id": "1cf5eaaa",
   "metadata": {},
   "source": [
    "# only movies from 2005\n",
    "meta_drama=meta_drama.loc[meta_drama['release_date']> '2005-01-01']\n",
    "print(meta_drama)"
   ]
  },
  {
   "cell_type": "code",
   "execution_count": 4,
   "id": "2ec04d8c",
   "metadata": {},
   "outputs": [],
   "source": [
    "#clean titles\n",
    "meta_drama=meta\n",
    "def clean_title(x):\n",
    "    '''\n",
    "    Method to normalize the movie titles\n",
    "    '''\n",
    "    for char in [\",\", \"'\", \".\", \":\", \";\", \"(\", \")\", \"/\", \"!\", \"?\", \"%\", \"-\", \"_\", \"=\"]:\n",
    "        x=x.replace(char, \"\")        \n",
    "    return x.lower()\n",
    " \n",
    "rotten['movie_title']=rotten['movie_title'].apply(clean_title)\n",
    "meta_drama['title']=meta_drama['title'].apply(clean_title)\n",
    "\n"
   ]
  },
  {
   "cell_type": "code",
   "execution_count": 18,
   "id": "b3972dde",
   "metadata": {},
   "outputs": [
    {
     "name": "stdout",
     "output_type": "stream",
     "text": [
      "Index(['original_release_date', 'runtime_x', 'tomatometer_status',\n",
      "       'tomatometer_rating', 'tomatometer_count', 'audience_status',\n",
      "       'audience_rating', 'audience_count', 'tomatometer_top_critics_count',\n",
      "       'adult', 'budget', 'genres', 'id', 'imdb_id', 'original_language',\n",
      "       'original_title', 'popularity', 'release_date', 'runtime_y', 'status',\n",
      "       'title', 'vote_average', 'vote_count'],\n",
      "      dtype='object')\n"
     ]
    }
   ],
   "source": [
    "# combine rotten and imdb data\n",
    "\n",
    "def combine(df1, df2):\n",
    "    result = pd.merge(df1, df2, how=\"inner\", left_on='movie_title', right_on='title')\n",
    "    result = result.drop(['movie_title'], axis=1)\n",
    "    return result\n",
    "\n",
    "combined=combine(rotten, meta_drama)\n",
    "print(combined.columns)"
   ]
  },
  {
   "cell_type": "code",
   "execution_count": 19,
   "id": "968896f3",
   "metadata": {},
   "outputs": [
    {
     "name": "stdout",
     "output_type": "stream",
     "text": [
      "Rotten             7565\n",
      "Fresh              6844\n",
      "Certified-Fresh    3259\n",
      "Name: tomatometer_status, dtype: int64\n",
      "0                         [{'id': 37, 'name': 'Western'}]\n",
      "1                         [{'id': 37, 'name': 'Western'}]\n",
      "2                           [{'id': 18, 'name': 'Drama'}]\n",
      "3       [{'id': 28, 'name': 'Action'}, {'id': 12, 'nam...\n",
      "4       [{'id': 35, 'name': 'Comedy'}, {'id': 18, 'nam...\n",
      "                              ...                        \n",
      "2548    [{'id': 10751, 'name': 'Family'}, {'id': 14, '...\n",
      "2549    [{'id': 18, 'name': 'Drama'}, {'id': 10752, 'n...\n",
      "2550    [{'id': 28, 'name': 'Action'}, {'id': 12, 'nam...\n",
      "2551    [{'id': 35, 'name': 'Comedy'}, {'id': 80, 'nam...\n",
      "2552    [{'id': 27, 'name': 'Horror'}, {'id': 28, 'nam...\n",
      "Name: genres, Length: 2553, dtype: object\n"
     ]
    }
   ],
   "source": [
    "print(rotten['tomatometer_status'].value_counts())\n",
    "print(combined['genres']) ### extract genres"
   ]
  },
  {
   "cell_type": "code",
   "execution_count": 7,
   "id": "4d93a43e",
   "metadata": {},
   "outputs": [
    {
     "name": "stdout",
     "output_type": "stream",
     "text": [
      "Index(['original_release_date', 'runtime_x', 'tomatometer_status',\n",
      "       'tomatometer_rating', 'tomatometer_count', 'audience_status',\n",
      "       'audience_rating', 'audience_count', 'tomatometer_top_critics_count',\n",
      "       'adult', 'budget', 'genres', 'id', 'imdb_id', 'original_language',\n",
      "       'original_title', 'popularity', 'release_date', 'runtime_y', 'status',\n",
      "       'title', 'vote_average', 'vote_count'],\n",
      "      dtype='object')\n",
      "2553\n"
     ]
    }
   ],
   "source": [
    "print(combined.columns)\n",
    "print(combined.__len__())"
   ]
  },
  {
   "cell_type": "raw",
   "id": "00f67815",
   "metadata": {},
   "source": [
    "combined.to_csv(\"meta_rotten_drama.csv\")"
   ]
  },
  {
   "cell_type": "code",
   "execution_count": 9,
   "id": "4d277b8a",
   "metadata": {},
   "outputs": [],
   "source": [
    "le = LabelEncoder()\n",
    "combined = combined[['original_release_date', 'runtime_x', 'tomatometer_status',\n",
    "       'tomatometer_rating', 'tomatometer_count', 'audience_status',\n",
    "       'audience_rating', 'audience_count', 'tomatometer_top_critics_count',\n",
    "       'adult', 'budget', 'genres', 'id', 'imdb_id', 'original_language',\n",
    "       'original_title', 'popularity', 'release_date', 'runtime_y', 'status',\n",
    "       'title', 'vote_average', 'vote_count']].apply(le.fit_transform)\n",
    "    "
   ]
  },
  {
   "cell_type": "code",
   "execution_count": 10,
   "id": "421c4360",
   "metadata": {},
   "outputs": [],
   "source": [
    "X=combined.drop(['tomatometer_status', 'tomatometer_rating', 'tomatometer_count', 'vote_count', \n",
    "                 'popularity', 'vote_average',  'audience_count', 'audience_rating', 'audience_status'], axis=1)\n",
    "y=combined['tomatometer_status']\n",
    "\n",
    "X_train, X_test, y_train, y_test=train_test_split(X, y)"
   ]
  },
  {
   "cell_type": "code",
   "execution_count": 14,
   "id": "70b0cdd3",
   "metadata": {},
   "outputs": [
    {
     "name": "stdout",
     "output_type": "stream",
     "text": [
      "0.8610240334378265\n",
      "0.6338028169014085\n"
     ]
    }
   ],
   "source": [
    "model=RandomForestClassifier(n_estimators=100, max_depth=10)\n",
    "model.fit(X_train, y_train)\n",
    "\n",
    "y_pred=model.predict(X_test)\n",
    "\n",
    "y_train_pred = model.predict(X_train) \n",
    "\n",
    "print(accuracy_score(y_train, y_train_pred) )\n",
    "print(accuracy_score(y_test, y_pred))"
   ]
  },
  {
   "cell_type": "code",
   "execution_count": 12,
   "id": "21825bb9",
   "metadata": {},
   "outputs": [
    {
     "name": "stdout",
     "output_type": "stream",
     "text": [
      "              precision    recall  f1-score   support\n",
      "\n",
      "           0       0.69      0.50      0.58       135\n",
      "           1       0.65      0.40      0.50       204\n",
      "           2       0.61      0.85      0.71       298\n",
      "           3       0.00      0.00      0.00         2\n",
      "\n",
      "    accuracy                           0.63       639\n",
      "   macro avg       0.49      0.44      0.45       639\n",
      "weighted avg       0.64      0.63      0.61       639\n",
      "\n"
     ]
    },
    {
     "name": "stderr",
     "output_type": "stream",
     "text": [
      "/home/piegarroni/anaconda3/envs/condaenv/lib/python3.9/site-packages/sklearn/metrics/_classification.py:1327: UndefinedMetricWarning: Precision and F-score are ill-defined and being set to 0.0 in labels with no predicted samples. Use `zero_division` parameter to control this behavior.\n",
      "  _warn_prf(average, modifier, msg_start, len(result))\n",
      "/home/piegarroni/anaconda3/envs/condaenv/lib/python3.9/site-packages/sklearn/metrics/_classification.py:1327: UndefinedMetricWarning: Precision and F-score are ill-defined and being set to 0.0 in labels with no predicted samples. Use `zero_division` parameter to control this behavior.\n",
      "  _warn_prf(average, modifier, msg_start, len(result))\n",
      "/home/piegarroni/anaconda3/envs/condaenv/lib/python3.9/site-packages/sklearn/metrics/_classification.py:1327: UndefinedMetricWarning: Precision and F-score are ill-defined and being set to 0.0 in labels with no predicted samples. Use `zero_division` parameter to control this behavior.\n",
      "  _warn_prf(average, modifier, msg_start, len(result))\n"
     ]
    }
   ],
   "source": [
    "print(classification_report(y_test, y_pred))"
   ]
  },
  {
   "cell_type": "code",
   "execution_count": null,
   "id": "5df64b34",
   "metadata": {},
   "outputs": [],
   "source": []
  }
 ],
 "metadata": {
  "kernelspec": {
   "display_name": "Python 3 (ipykernel)",
   "language": "python",
   "name": "python3"
  },
  "language_info": {
   "codemirror_mode": {
    "name": "ipython",
    "version": 3
   },
   "file_extension": ".py",
   "mimetype": "text/x-python",
   "name": "python",
   "nbconvert_exporter": "python",
   "pygments_lexer": "ipython3",
   "version": "3.9.0"
  }
 },
 "nbformat": 4,
 "nbformat_minor": 5
}
